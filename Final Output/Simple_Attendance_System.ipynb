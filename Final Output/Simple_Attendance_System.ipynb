{
  "nbformat": 4,
  "nbformat_minor": 0,
  "metadata": {
    "colab": {
      "provenance": [],
      "collapsed_sections": [
        "-cvA7eym9Tuq",
        "Imm367J7Z4H3"
      ],
      "authorship_tag": "ABX9TyOBad3XzwFGr+t5lVdckZH8",
      "include_colab_link": true
    },
    "kernelspec": {
      "name": "python3",
      "display_name": "Python 3"
    },
    "language_info": {
      "name": "python"
    }
  },
  "cells": [
    {
      "cell_type": "markdown",
      "metadata": {
        "id": "view-in-github",
        "colab_type": "text"
      },
      "source": [
        "<a href=\"https://colab.research.google.com/github/milayacharlieCvSU/CPEN65_Final-Project/blob/main/Final%20Output/Simple_Attendance_System.ipynb\" target=\"_parent\"><img src=\"https://colab.research.google.com/assets/colab-badge.svg\" alt=\"Open In Colab\"/></a>"
      ]
    },
    {
      "cell_type": "markdown",
      "source": [
        "## Data Set\n",
        "The following code writes the necessary information for the attendance program"
      ],
      "metadata": {
        "id": "fk87YQw54gSW"
      }
    },
    {
      "cell_type": "code",
      "execution_count": 1,
      "metadata": {
        "id": "f5eYhoIQ4bhK"
      },
      "outputs": [],
      "source": [
        "directory_surnames = ['Aguado',\n",
        "                      'Albero',\n",
        "                      'Alcala',\n",
        "                      'Alcantara',\n",
        "                      'Alegre',\n",
        "                      'Anciado',\n",
        "                      'Angeles',\n",
        "                      'Anogante',\n",
        "                      'Argente',\n",
        "                      'Atencia',\n",
        "                      'Baguio',\n",
        "                      'Bangay',\n",
        "                      'Blasco',\n",
        "                      'Camandono',\n",
        "                      'Catamisan',\n",
        "                      'Crusem',\n",
        "                      'Cubol',\n",
        "                      'Cueno',\n",
        "                      'Daguio',\n",
        "                      'Esporas',\n",
        "                      'Eugenio',\n",
        "                      'Gloriani',\n",
        "                      'Guasis',\n",
        "                      'Julian',\n",
        "                      'Marasigan',\n",
        "                      'Mendoza',\n",
        "                      'Milaya',\n",
        "                      'Nicart',\n",
        "                      'Ocasion',\n",
        "                      'Paglinawan',\n",
        "                      'Rupido',\n",
        "                      'Samonte',\n",
        "                      'Serenio',\n",
        "                      'Tayab',\n",
        "                      'Trias Jr.']\n",
        "\n",
        "directory_first_names = ['Danielle Ysabelle',\n",
        "                         'Justine Kate',\n",
        "                         'Lance Wesley',\n",
        "                         'Ulysses',\n",
        "                         'Ericka Jane',\n",
        "                         'Alexis Jelyn',\n",
        "                         'Miro',\n",
        "                         'Ryan Nico',\n",
        "                         'Allen Patrick',\n",
        "                         'Joshua',\n",
        "                         'Wearl Ian',\n",
        "                         'Rhonan Richmond',\n",
        "                         'Marc Christian',\n",
        "                         'Gabriel',\n",
        "                         'Lanz Andrei',\n",
        "                         'Deen Reinier',\n",
        "                         'Elise Brixe',\n",
        "                         'Trisha Faye',\n",
        "                         'John Hendrick',\n",
        "                         'Javibe',\n",
        "                         'Julius Caezar',\n",
        "                         'Franz Louise',\n",
        "                         'Chelsey',\n",
        "                         'Ma. Kaethe Joy',\n",
        "                         'Dominic',\n",
        "                         'Jessa Mae',\n",
        "                         'Charlie',\n",
        "                         'Ben Piolo',\n",
        "                         'Alessandro Xavier',\n",
        "                         'King John Adamz',\n",
        "                         'Baby Angel',\n",
        "                         'Jeffrey',\n",
        "                         'Marc Jay',\n",
        "                         'Dirk',\n",
        "                         'Ysmael']\n",
        "\n",
        "directory_middle_initials = ['M',\n",
        "                             'P',\n",
        "                             'B',\n",
        "                             'S',\n",
        "                             'A',\n",
        "                             'P',\n",
        "                             'G',\n",
        "                             '',\n",
        "                             'M',\n",
        "                             'D',\n",
        "                             'G',\n",
        "                             'D',\n",
        "                             'M',\n",
        "                             'Q',\n",
        "                             'A',\n",
        "                             'B',\n",
        "                             'S',\n",
        "                             'C',\n",
        "                             'S',\n",
        "                             'M',\n",
        "                             'R',\n",
        "                             'B',\n",
        "                             'L',\n",
        "                             'A',\n",
        "                             'Z',\n",
        "                             'D',\n",
        "                             '',\n",
        "                             'G',\n",
        "                             'T',\n",
        "                             'R',\n",
        "                             'E',\n",
        "                             'R',\n",
        "                             'D',\n",
        "                             'M',\n",
        "                             'R']"
      ]
    },
    {
      "cell_type": "markdown",
      "source": [
        "## Data Structure Used"
      ],
      "metadata": {
        "id": "-cvA7eym9Tuq"
      }
    },
    {
      "cell_type": "code",
      "source": [
        "# Queue Class\n",
        "class Queue:\n",
        "  def __init__(self):\n",
        "    self.items = []\n",
        "    \n",
        "  # Adds 'item' on the queue.\n",
        "  def enqueue(self, item):\n",
        "    if item in self.items:\n",
        "      return False\n",
        "    self.items.append(item)\n",
        "    \n",
        "  # Removes the first item in the queue. Returns the item if the queue is not empty and a string otherwise.\n",
        "  def dequeue(self):\n",
        "    if self.items == []:\n",
        "      return \"The queue is empty.\"\n",
        "    return self.items.pop(0)\n",
        "    \n",
        "  # Returns the first item in the queue without removing it.\n",
        "  def first(self):\n",
        "    return self.items[0]\n",
        "    \n",
        "  # Check whether the queue is empty or not.\n",
        "  def isEmpty(self):\n",
        "    return self.items == []\n",
        "    \n",
        "  # Returns the size of the queue using the len() operator.\n",
        "  def __len__(self):\n",
        "    return len(self.items)\n",
        "    \n",
        "  # Returns the queue for printing and debugging purposes.\n",
        "  def __repr__(self):\n",
        "    return str(self.items)"
      ],
      "metadata": {
        "id": "679NxVNc9UQe"
      },
      "execution_count": 2,
      "outputs": []
    },
    {
      "cell_type": "markdown",
      "source": [
        "## Initialization"
      ],
      "metadata": {
        "id": "Imm367J7Z4H3"
      }
    },
    {
      "cell_type": "code",
      "source": [
        "from datetime import datetime, timezone, timedelta\n",
        "from pprint import pprint\n",
        "\n",
        "present = Queue()\n",
        "\n",
        "def attendance(surname, first_name, middle_initial, time):\n",
        "  # Checks if the data inputted exists in the database. Return a string if one of the data is not.\n",
        "  if surname.title() not in directory_surnames:\n",
        "    return \"Inputted surname doesn't exist in the database.\"\n",
        "  if first_name.title() not in directory_first_names:\n",
        "    return \"Inputted first name doesn't exist in the database.\"\n",
        "  if middle_initial.title() not in directory_middle_initials:\n",
        "    return \"Inputted middle initial doesn't exist in the database.\"\n",
        "  \n",
        "  # Checks if the data are already in the attendance list. Return a string if it is.\n",
        "  for data in present.items:\n",
        "    if surname.title() in data[1] and first_name.title() in data [1] and middle_initial in data[1]:\n",
        "      return \"Name already in the attendance.\"\n",
        "  \n",
        "  # Checks if the data matches to themselves in the database. Return a string if not.\n",
        "  def data_match_check(temporary):\n",
        "    if middle_initial in temporary and (\n",
        "        temporary.index(middle_initial) != directory_surnames.index(surname.title()) or\n",
        "        temporary.index(middle_initial) != directory_first_names.index(first_name.title())):\n",
        "      temporary[temporary.index(middle_initial)] = None\n",
        "      data_match_check(temporary)\n",
        "\n",
        "  temp_middles = directory_middle_initials.copy()\n",
        "  data_match_check(temp_middles)\n",
        "  if middle_initial not in temp_middles:\n",
        "    return \"Surname doesn't match to its first name or middle initial.\"\n",
        "  \n",
        "  # Adds the data in the queue. A conditional for names with no middle initials.\n",
        "  if middle_initial == \"\":\n",
        "    present.enqueue([time, \"%s, %s\" % (surname.title(), first_name.title())])\n",
        "  else:\n",
        "    present.enqueue([time, \"%s, %s %s.\" % (surname.title(), first_name.title(), middle_initial[0].title())])\n",
        "  \n",
        "  return \"Entry successfully added in the attendance list.\""
      ],
      "metadata": {
        "id": "BKQCnUgiZ8Ye"
      },
      "execution_count": 3,
      "outputs": []
    },
    {
      "cell_type": "markdown",
      "source": [
        "## Attendance Form"
      ],
      "metadata": {
        "id": "iFUrG7YXCPWS"
      }
    },
    {
      "cell_type": "code",
      "source": [
        "#@title Attendance\n",
        "surname = \"Milaya\" #@param {type:\"string\"}\n",
        "first_name = \"Charlie\" #@param {type:\"string\"}\n",
        "middle_initial = \"\" #@param {type:\"string\"}\n",
        "\n",
        "\n",
        "now = datetime.now(timezone(timedelta(hours=8))).strftime(\"%I:%M %p\")\n",
        "print(attendance(surname, first_name, middle_initial, now))\n",
        "\n",
        "print(\"\\nAttendance List\")\n",
        "pprint(present.items)"
      ],
      "metadata": {
        "id": "2swd9H8e50UR",
        "colab": {
          "base_uri": "https://localhost:8080/"
        },
        "outputId": "d287c65a-1d14-4cfa-92f6-30d8ba3f24ec"
      },
      "execution_count": 4,
      "outputs": [
        {
          "output_type": "stream",
          "name": "stdout",
          "text": [
            "Entry successfully added in the attendance list.\n",
            "\n",
            "Attendance List\n",
            "[['05:37 PM', 'Milaya, Charlie']]\n"
          ]
        }
      ]
    }
  ]
}