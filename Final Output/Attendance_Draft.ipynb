{
  "nbformat": 4,
  "nbformat_minor": 0,
  "metadata": {
    "colab": {
      "provenance": [],
      "authorship_tag": "ABX9TyMAJrcvabHCtRI/0gWDo8Xk",
      "include_colab_link": true
    },
    "kernelspec": {
      "name": "python3",
      "display_name": "Python 3"
    },
    "language_info": {
      "name": "python"
    }
  },
  "cells": [
    {
      "cell_type": "markdown",
      "metadata": {
        "id": "view-in-github",
        "colab_type": "text"
      },
      "source": [
        "<a href=\"https://colab.research.google.com/github/milayacharlieCvSU/CPEN65_Final-Project/blob/main/Final%20Output/Attendance_Draft.ipynb\" target=\"_parent\"><img src=\"https://colab.research.google.com/assets/colab-badge.svg\" alt=\"Open In Colab\"/></a>"
      ]
    },
    {
      "cell_type": "markdown",
      "source": [
        "## Data Set\n",
        "The following code writes the necessary information for the attendance program"
      ],
      "metadata": {
        "id": "fk87YQw54gSW"
      }
    },
    {
      "cell_type": "code",
      "execution_count": 1,
      "metadata": {
        "id": "f5eYhoIQ4bhK"
      },
      "outputs": [],
      "source": [
        "directory_names = ['Esporas, Javibe M.',\n",
        "                   'Trias Jr., Ysmael R.',\n",
        "                   'Julian, Ma. Kaethe Joy A.',\n",
        "                   'Nicart, Ben Piolo G.',\n",
        "                   'Bangay, Rhonan Richmond D.',\n",
        "                   'Blasco, Marc Christian M.',\n",
        "                   'Alcala, Lance Wesley B.',\n",
        "                   'Eugenio, Julius Caezar R.',\n",
        "                   'Angeles, Miro G.',\n",
        "                   'Crusem, Deen Reinier B.',\n",
        "                   'Ocasion, Alessandro Xavier T.',\n",
        "                   'Argente, Allen Patrick M.',\n",
        "                   'Albero, Justine Kate P.',\n",
        "                   'Atencia, Joshua D.',\n",
        "                   'Marasigan, Dominic Z.',\n",
        "                   'Gloriani, Franz Louise B.',\n",
        "                   'Daguio, John Hendrick S.',\n",
        "                   'Anciado, Alexis Jelyn P.',\n",
        "                   'Baguio, Wearl Ian G.',\n",
        "                   'Camandono, Gabriel Q.',\n",
        "                   'Cueno, Trisha Faye C.',\n",
        "                   'Alegre, Ericka Jane A.',\n",
        "                   'Cubol, Elise Brixe S.',\n",
        "                   'Milaya, Charlie',\n",
        "                   'Anogante, Ryan Nico',\n",
        "                   'Catamisan, Lanz Andrei A.',\n",
        "                   'Tayab, Dirk M.',\n",
        "                   'Serenio, Marc Jay D.',\n",
        "                   'Paglinawan, King John Adamz R.',\n",
        "                   'Mendoza, Jessa Mae D.',\n",
        "                   'Alcantara, Ulysses S.',\n",
        "                   'Guasis, Chelsey L.',\n",
        "                   'Aguado, Danielle Ysabelle M.',\n",
        "                   'Samonte, Jeffrey R.',\n",
        "                   'Rupido, Baby Angel E.']"
      ]
    },
    {
      "cell_type": "markdown",
      "source": [
        "## Data Structure Used"
      ],
      "metadata": {
        "id": "-cvA7eym9Tuq"
      }
    },
    {
      "cell_type": "code",
      "source": [
        "# Queue Class\n",
        "class Queue:\n",
        "  def __init__(self):\n",
        "    self.items = []\n",
        "    \n",
        "  # Adds 'item' on the queue.\n",
        "  def enqueue(self, item):\n",
        "    if item in self.items:\n",
        "      return False\n",
        "    self.items.append(item)\n",
        "    \n",
        "  # Removes the first item in the queue. Returns the item if the queue is not empty and a string otherwise.\n",
        "  def dequeue(self):\n",
        "    if self.items == []:\n",
        "      return \"The queue is empty.\"\n",
        "    return self.items.pop(0)\n",
        "    \n",
        "  # Returns the first item in the queue without removing it.\n",
        "  def first(self):\n",
        "    return self.items[0]\n",
        "    \n",
        "  # Check whether the queue is empty or not.\n",
        "  def isEmpty(self):\n",
        "    return self.items == []\n",
        "    \n",
        "  # Returns the size of the queue using the len() operator.\n",
        "  def __len__(self):\n",
        "    return len(self.items)\n",
        "    \n",
        "  # Returns the queue for printing and debugging purposes.\n",
        "  def __repr__(self):\n",
        "    return str(self.items)"
      ],
      "metadata": {
        "id": "679NxVNc9UQe"
      },
      "execution_count": 2,
      "outputs": []
    },
    {
      "cell_type": "markdown",
      "source": [
        "## Initialization"
      ],
      "metadata": {
        "id": "Imm367J7Z4H3"
      }
    },
    {
      "cell_type": "code",
      "source": [
        "from datetime import datetime, timezone, tzinfo, timedelta\n",
        "from pprint import pprint\n",
        "\n",
        "present = Queue()\n",
        "\n",
        "def attendance(name, current_time):\n",
        "  # Checks if the nameis in the database. Return a string if it isn't.\n",
        "  if name not in directory_names:\n",
        "    return \"Inputted name doesn't exist in the database.\"\n",
        "\n",
        "  # Checks if the name is already in the attendance. Returns a string if it is.\n",
        "  for data in present.items:\n",
        "    if name in data[1]:\n",
        "      return \"Name already in the attendance.\"\n",
        "  \n",
        "  # Name and the curent time is then added to the queue.\n",
        "  present.enqueue([current_time, name])"
      ],
      "metadata": {
        "id": "BKQCnUgiZ8Ye"
      },
      "execution_count": 3,
      "outputs": []
    },
    {
      "cell_type": "markdown",
      "source": [
        "## Attendance Form"
      ],
      "metadata": {
        "id": "iFUrG7YXCPWS"
      }
    },
    {
      "cell_type": "code",
      "source": [
        "#@title Attendance\n",
        "full_name = \"Samonte, Jeffrey R.\" #@param {type:\"string\"}\n",
        "\n",
        "now = datetime.now(timezone(timedelta(hours=8))).strftime(\"%I:%M %p\")\n",
        "print(attendance(full_name, now))\n",
        "\n",
        "print(\"\\nAttendamce List:\")\n",
        "pprint(list(present.items))"
      ],
      "metadata": {
        "cellView": "form",
        "id": "2swd9H8e50UR",
        "colab": {
          "base_uri": "https://localhost:8080/"
        },
        "outputId": "18c9843c-195c-4c1a-f9ca-051b1166f0d8"
      },
      "execution_count": 10,
      "outputs": [
        {
          "output_type": "stream",
          "name": "stdout",
          "text": [
            "None\n",
            "\n",
            "Attendamce List:\n",
            "[['06:10 PM', 'Milaya, Charlie'],\n",
            " ['06:10 PM', 'Marasigan, Dominic Z.'],\n",
            " ['06:11 PM', 'Blasco, Marc Christian M.'],\n",
            " ['06:11 PM', 'Nicart, Ben Piolo G.'],\n",
            " ['06:12 PM', 'Camandono, Gabriel Q.'],\n",
            " ['06:13 PM', 'Paglinawan, King John Adamz R.'],\n",
            " ['06:13 PM', 'Samonte, Jeffrey R.']]\n"
          ]
        }
      ]
    }
  ]
}