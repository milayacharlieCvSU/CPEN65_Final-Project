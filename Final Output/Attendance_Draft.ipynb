{
  "nbformat": 4,
  "nbformat_minor": 0,
  "metadata": {
    "colab": {
      "provenance": [],
      "collapsed_sections": [
        "-cvA7eym9Tuq",
        "Imm367J7Z4H3"
      ],
      "authorship_tag": "ABX9TyPpiFMOhF1OjRXbP74pDy5I",
      "include_colab_link": true
    },
    "kernelspec": {
      "name": "python3",
      "display_name": "Python 3"
    },
    "language_info": {
      "name": "python"
    }
  },
  "cells": [
    {
      "cell_type": "markdown",
      "metadata": {
        "id": "view-in-github",
        "colab_type": "text"
      },
      "source": [
        "<a href=\"https://colab.research.google.com/github/milayacharlieCvSU/CPEN65_Final-Project/blob/main/Final%20Output/Attendance_Draft.ipynb\" target=\"_parent\"><img src=\"https://colab.research.google.com/assets/colab-badge.svg\" alt=\"Open In Colab\"/></a>"
      ]
    },
    {
      "cell_type": "markdown",
      "source": [
        "## Data Set\n",
        "The following code writes the necessary information for the attendance program"
      ],
      "metadata": {
        "id": "fk87YQw54gSW"
      }
    },
    {
      "cell_type": "code",
      "execution_count": 1,
      "metadata": {
        "id": "f5eYhoIQ4bhK"
      },
      "outputs": [],
      "source": [
        "directory_surnames = ['Aguado',\n",
        "                      'Albero',\n",
        "                      'Alcala',\n",
        "                      'Alcantara',\n",
        "                      'Alegre',\n",
        "                      'Anciado',\n",
        "                      'Angeles',\n",
        "                      'Anogante',\n",
        "                      'Argente',\n",
        "                      'Atencia',\n",
        "                      'Baguio',\n",
        "                      'Bangay',\n",
        "                      'Blasco',\n",
        "                      'Camandono',\n",
        "                      'Catamisan',\n",
        "                      'Crusem',\n",
        "                      'Cubol',\n",
        "                      'Cueno',\n",
        "                      'Daguio',\n",
        "                      'Esporas',\n",
        "                      'Eugenio',\n",
        "                      'Gloriani',\n",
        "                      'Guasis',\n",
        "                      'Julian',\n",
        "                      'Marasigan',\n",
        "                      'Mendoza',\n",
        "                      'Milaya',\n",
        "                      'Nicart',\n",
        "                      'Ocasion',\n",
        "                      'Paglinawan',\n",
        "                      'Rupido',\n",
        "                      'Samonte',\n",
        "                      'Serenio',\n",
        "                      'Tayab',\n",
        "                      'Trias Jr.']\n",
        "\n",
        "directory_first_names = ['Danielle Ysabelle',\n",
        "                         'Justine Kate',\n",
        "                         'Lance Wesley',\n",
        "                         'Ulysses',\n",
        "                         'Ericka Jane',\n",
        "                         'Alexis Jelyn',\n",
        "                         'Miro',\n",
        "                         'Ryan Nico',\n",
        "                         'Allen Patrick',\n",
        "                         'Joshua',\n",
        "                         'Wearl Ian',\n",
        "                         'Rhonan Richmond',\n",
        "                         'Marc Christian',\n",
        "                         'Gabriel',\n",
        "                         'Lanz Andrei',\n",
        "                         'Deen Reinier',\n",
        "                         'Elise Brixe',\n",
        "                         'Trisha Faye',\n",
        "                         'John Hendrick',\n",
        "                         'Javibe',\n",
        "                         'Julius Caezar',\n",
        "                         'Franz Louise',\n",
        "                         'Chelsey',\n",
        "                         'Ma. Kaethe Joy',\n",
        "                         'Dominic',\n",
        "                         'Jessa Mae',\n",
        "                         'Charlie',\n",
        "                         'Ben Piolo',\n",
        "                         'Alessandro Xavier',\n",
        "                         'King John Adamz',\n",
        "                         'Baby Angel',\n",
        "                         'Jeffrey',\n",
        "                         'Marc Jay',\n",
        "                         'Dirk',\n",
        "                         'Ysmael']\n",
        "\n",
        "directory_middle_initials = ['M.',\n",
        "                             'P.',\n",
        "                             'B.',\n",
        "                             'S.',\n",
        "                             'A.',\n",
        "                             'P.',\n",
        "                             'G.',\n",
        "                             '',\n",
        "                             'M.',\n",
        "                             'D.',\n",
        "                             'G.',\n",
        "                             'D.',\n",
        "                             'M.',\n",
        "                             'Q.',\n",
        "                             'A.',\n",
        "                             'B.',\n",
        "                             'S.',\n",
        "                             'C.',\n",
        "                             'S.',\n",
        "                             'M.',\n",
        "                             'R.',\n",
        "                             'B.',\n",
        "                             'L.',\n",
        "                             'A.',\n",
        "                             'Z.',\n",
        "                             'D.',\n",
        "                             '',\n",
        "                             'G.',\n",
        "                             'T.',\n",
        "                             'R.',\n",
        "                             'E.',\n",
        "                             'R.',\n",
        "                             'D.',\n",
        "                             'M.',\n",
        "                             'R.']"
      ]
    },
    {
      "cell_type": "markdown",
      "source": [
        "## Data Structure Used"
      ],
      "metadata": {
        "id": "-cvA7eym9Tuq"
      }
    },
    {
      "cell_type": "code",
      "source": [
        "# Queue Class\n",
        "class Queue:\n",
        "  def __init__(self):\n",
        "    self.items = []\n",
        "    \n",
        "  # Adds 'item' on the queue.\n",
        "  def enqueue(self, item):\n",
        "    if item in self.items:\n",
        "      return False\n",
        "    self.items.append(item)\n",
        "    \n",
        "  # Removes the first item in the queue. Returns the item if the queue is not empty and a string otherwise.\n",
        "  def dequeue(self):\n",
        "    if self.items == []:\n",
        "      return \"The queue is empty.\"\n",
        "    return self.items.pop(0)\n",
        "    \n",
        "  # Returns the first item in the queue without removing it.\n",
        "  def first(self):\n",
        "    return self.items[0]\n",
        "    \n",
        "  # Check whether the queue is empty or not.\n",
        "  def isEmpty(self):\n",
        "    return self.items == []\n",
        "    \n",
        "  # Returns the size of the queue using the len() operator.\n",
        "  def __len__(self):\n",
        "    return len(self.items)\n",
        "    \n",
        "  # Returns the queue for printing and debugging purposes.\n",
        "  def __repr__(self):\n",
        "    return str(self.items)"
      ],
      "metadata": {
        "id": "679NxVNc9UQe"
      },
      "execution_count": 2,
      "outputs": []
    },
    {
      "cell_type": "markdown",
      "source": [
        "## Initialization"
      ],
      "metadata": {
        "id": "Imm367J7Z4H3"
      }
    },
    {
      "cell_type": "code",
      "source": [
        "from datetime import datetime, timezone, timedelta\n",
        "from pprint import pprint\n",
        "\n",
        "present = Queue()\n",
        "\n",
        "def attendance(surname, first_name, middle_initial, time):\n",
        "  # Checks if the data inputted exists in the database. Return a string if one of the data is not\n",
        "  if surname not in directory_surnames or first_name not in directory_first_names or middle_initial not in directory_middle_initials:\n",
        "    return \"Inputted data doesn't exist in the database.\"\n",
        "  \n",
        "  # Checks if the data matches to themselves in the database. Return a string if not.\n",
        "  for data in present.items:\n",
        "    if surname and first_name in data[1]:\n",
        "      return \"Name already in the attendance.\"\n",
        "  \n",
        "  # Adds the data in the queue. A conditional for names with no middle initials.\n",
        "  if middle_initial == \"\":\n",
        "    present.enqueue([time, \"%s, %s\" % (surname, first_name)])\n",
        "  else:\n",
        "    present.enqueue([time, \"%s, %s %s\" % (surname, first_name, middle_initial)])"
      ],
      "metadata": {
        "id": "BKQCnUgiZ8Ye"
      },
      "execution_count": 3,
      "outputs": []
    },
    {
      "cell_type": "markdown",
      "source": [
        "## Attendance Form"
      ],
      "metadata": {
        "id": "iFUrG7YXCPWS"
      }
    },
    {
      "cell_type": "code",
      "source": [
        "#@title Attendance\n",
        "surname = \"Nicart\" #@param {type:\"string\"}\n",
        "first_name = \"Ben Piolo\" #@param {type:\"string\"}\n",
        "middle_initial = \"G.\" #@param {type:\"string\"}\n",
        "\n",
        "\n",
        "now = datetime.now(timezone(timedelta(hours=8))).strftime(\"%I:%M %p\")\n",
        "print(attendance(surname, first_name, middle_initial, now))\n",
        "\n",
        "print(\"\\nAttendance List\")\n",
        "pprint(present.items)"
      ],
      "metadata": {
        "cellView": "form",
        "id": "2swd9H8e50UR",
        "colab": {
          "base_uri": "https://localhost:8080/"
        },
        "outputId": "596d27fd-90c9-46f3-bbfa-008e47cae1b2"
      },
      "execution_count": 11,
      "outputs": [
        {
          "output_type": "stream",
          "name": "stdout",
          "text": [
            "Name already in the attendance.\n",
            "\n",
            "Attendance List\n",
            "[['08:19 AM', 'Paglinawan, King John Adamz R.'],\n",
            " ['08:23 AM', 'Milaya, Charlie'],\n",
            " ['08:24 AM', 'Nicart, Ben Piolo G.'],\n",
            " ['08:26 AM', 'Marasigan, Dominic Z.'],\n",
            " ['08:26 AM', 'Camandono, Gabriel Q.'],\n",
            " ['08:27 AM', 'Blasco, Marc Christian M.'],\n",
            " ['08:28 AM', 'Samonte, Jeffrey R.']]\n"
          ]
        }
      ]
    }
  ]
}