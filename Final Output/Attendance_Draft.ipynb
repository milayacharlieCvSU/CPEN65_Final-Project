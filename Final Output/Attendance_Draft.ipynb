{
  "nbformat": 4,
  "nbformat_minor": 0,
  "metadata": {
    "colab": {
      "provenance": [],
      "authorship_tag": "ABX9TyN0tYvMrQ0Nfx9vvTHQPj7H",
      "include_colab_link": true
    },
    "kernelspec": {
      "name": "python3",
      "display_name": "Python 3"
    },
    "language_info": {
      "name": "python"
    }
  },
  "cells": [
    {
      "cell_type": "markdown",
      "metadata": {
        "id": "view-in-github",
        "colab_type": "text"
      },
      "source": [
        "<a href=\"https://colab.research.google.com/github/milayacharlieCvSU/CPEN65_Final-Project/blob/main/Attendance_Draft.ipynb\" target=\"_parent\"><img src=\"https://colab.research.google.com/assets/colab-badge.svg\" alt=\"Open In Colab\"/></a>"
      ]
    },
    {
      "cell_type": "markdown",
      "source": [
        "## Data Set\n",
        "The following code writes the necessary information for the attendance program"
      ],
      "metadata": {
        "id": "fk87YQw54gSW"
      }
    },
    {
      "cell_type": "code",
      "execution_count": 1,
      "metadata": {
        "id": "f5eYhoIQ4bhK"
      },
      "outputs": [],
      "source": [
        "directory_numbers = [202012159, 202015206, 202101036, 202101441, 202101447, 202101462, 202101468, 202101486,\n",
        "                     202101487, 202101495, 202101502, 202101513, 202101555, 202101624, 202101628, 202101633,\n",
        "                     202101672, 202101677, 202101723, 202101726, 202101759, 202101777, 202101864, 202101869,\n",
        "                     202101875, 202101886, 202102048, 202102057, 202102061, 202102187, 202102226, 202102319,\n",
        "                     202102333, 202102562, 202103531]\n",
        "directory_names = ['Esporas, Javibe M.',\n",
        "                   'Trias Jr., Ysmael R.',\n",
        "                   'Julian, Ma. Kaethe Joy A.',\n",
        "                   'Nicart, Ben Piolo G.',\n",
        "                   'Bangay, Rhonan Richmond D.',\n",
        "                   'Blasco, Marc Christian M.',\n",
        "                   'Alcala, Lance Wesley B.',\n",
        "                   'Eugenio, Julius Caezar R.',\n",
        "                   'Angeles, Miro G.',\n",
        "                   'Crusem, Deen Reinier B.',\n",
        "                   'Ocasion, Alessandro Xavier T.',\n",
        "                   'Argente, Allen Patrick M.',\n",
        "                   'Albero, Justine Kate P.',\n",
        "                   'Atencia, Joshua D.',\n",
        "                   'Marasigan, Dominic Z.',\n",
        "                   'Gloriani, Franz Louise B.',\n",
        "                   'Daguio, John Hendrick S.',\n",
        "                   'Anciado, Alexis Jelyn P.',\n",
        "                   'Baguio, Wearl Ian G.',\n",
        "                   'Camandono, Gabriel Q.',\n",
        "                   'Cueno, Trisha Faye C.',\n",
        "                   'Alegre, Ericka Jane A.',\n",
        "                   'Cubol, Elise Brixe S.',\n",
        "                   'Milaya, Charlie',\n",
        "                   'Anogante, Ryan Nico',\n",
        "                   'Catamisan, Lanz Andrei A.',\n",
        "                   'Tayab, Dirk M.',\n",
        "                   'Serenio, Marc Jay D.',\n",
        "                   'Paglinawan, King John Adamz R.',\n",
        "                   'Mendoza, Jessa Mae D.',\n",
        "                   'Alcantara, Ulysses S.',\n",
        "                   'Guasis, Chelsey L.',\n",
        "                   'Aguado, Danielle Ysabelle M.',\n",
        "                   'Samonte, Jeffrey R.',\n",
        "                   'Rupido, Baby Angel E.']"
      ]
    },
    {
      "cell_type": "markdown",
      "source": [
        "## Data Structure Used"
      ],
      "metadata": {
        "id": "-cvA7eym9Tuq"
      }
    },
    {
      "cell_type": "code",
      "source": [
        "# Queue Class\n",
        "class Queue:\n",
        "  def __init__(self):\n",
        "    self.items = []\n",
        "    \n",
        "  # Adds 'item' on the queue.\n",
        "  def enqueue(self, item):\n",
        "    if item in self.items:\n",
        "      return False\n",
        "    self.items.insert(0, item)\n",
        "    \n",
        "  # Removes the first item in the queue. Returns the item if the queue is not empty and a string otherwise.\n",
        "  def dequeue(self):\n",
        "    if self.items == []:\n",
        "      return \"The queue is empty.\"\n",
        "    return self.items.pop()\n",
        "    \n",
        "  # Returns the first item in the queue without removing it.\n",
        "  def first(self):\n",
        "    return self.items[-1]\n",
        "    \n",
        "  # Check whether the queue is empty or not.\n",
        "  def isEmpty(self):\n",
        "    return self.items == []\n",
        "    \n",
        "  # Returns the size of the queue using the len() operator.\n",
        "  def __len__(self):\n",
        "    return len(self.items)\n",
        "    \n",
        "  # Returns the queue for printing and debugging purposes.\n",
        "  def __repr__(self):\n",
        "    return str(self.items)"
      ],
      "metadata": {
        "id": "679NxVNc9UQe"
      },
      "execution_count": 2,
      "outputs": []
    },
    {
      "cell_type": "markdown",
      "source": [
        "## Initialization"
      ],
      "metadata": {
        "id": "Imm367J7Z4H3"
      }
    },
    {
      "cell_type": "code",
      "source": [
        "from datetime import datetime, timezone, tzinfo, timedelta\n",
        "from pprint import pprint\n",
        "\n",
        "present = Queue()"
      ],
      "metadata": {
        "id": "BKQCnUgiZ8Ye"
      },
      "execution_count": 3,
      "outputs": []
    },
    {
      "cell_type": "markdown",
      "source": [
        "## Attendance Form"
      ],
      "metadata": {
        "id": "iFUrG7YXCPWS"
      }
    },
    {
      "cell_type": "code",
      "source": [
        "#@title Attendance\n",
        "full_name = \"Milaya, Charlie\" #@param {type:\"string\"}\n",
        "student_no = 202101869 #@param {type:\"integer\"}\n",
        "\n"
      ],
      "metadata": {
        "cellView": "form",
        "id": "2swd9H8e50UR"
      },
      "execution_count": 4,
      "outputs": []
    },
    {
      "cell_type": "markdown",
      "source": [
        "## Main Program"
      ],
      "metadata": {
        "id": "-Am2pNkVCZdT"
      }
    },
    {
      "cell_type": "code",
      "source": [
        "now = datetime.now(timezone(timedelta(hours=8))).strftime(\"%I:%M %p\")\n",
        "\n",
        "if full_name in directory_names and student_no in directory_numbers:\n",
        "  if directory_names.index(full_name) == directory_numbers.index(student_no):\n",
        "    present.enqueue([full_name, now])"
      ],
      "metadata": {
        "id": "l_ZxPLVSCo-1"
      },
      "execution_count": 5,
      "outputs": []
    },
    {
      "cell_type": "markdown",
      "source": [
        "## Attendance Data"
      ],
      "metadata": {
        "id": "NkjcBRLvbUdG"
      }
    },
    {
      "cell_type": "code",
      "source": [
        "pprint(list(present.items))"
      ],
      "metadata": {
        "colab": {
          "base_uri": "https://localhost:8080/"
        },
        "id": "9_gQ_m3Fbh_E",
        "outputId": "ddbae5fd-5c8f-4c93-e326-abf040417c61"
      },
      "execution_count": 6,
      "outputs": [
        {
          "output_type": "stream",
          "name": "stdout",
          "text": [
            "[['Milaya, Charlie', '02:45 PM']]\n"
          ]
        }
      ]
    }
  ]
}
